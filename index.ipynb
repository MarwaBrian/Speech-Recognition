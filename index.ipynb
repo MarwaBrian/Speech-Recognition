{
 "cells": [
  {
   "cell_type": "markdown",
   "source": [
    "### Data Preparation"
   ],
   "metadata": {
    "collapsed": false
   },
   "id": "8d47b649d7039278"
  },
  {
   "cell_type": "code",
   "outputs": [],
   "source": [
    "# Loading the necessary libraries\n",
    "\n",
    "import os\n",
    "import pandas as pd\n",
    "import uuid"
   ],
   "metadata": {
    "collapsed": false,
    "ExecuteTime": {
     "end_time": "2024-02-05T09:02:05.382524400Z",
     "start_time": "2024-02-05T09:02:04.611008700Z"
    }
   },
   "id": "f8664e73e3ec7ce7",
   "execution_count": 1
  },
  {
   "cell_type": "code",
   "outputs": [
    {
     "data": {
      "text/plain": "                 ID             File Name  Emotion  \\\n0    angry_43e3bc38    OAF_back_angry.wav    angry   \n1  disgust_6e0c7f59  OAF_back_disgust.wav  disgust   \n2     fear_cee1f9df     OAF_back_fear.wav     fear   \n3    happy_21b40151    OAF_back_happy.wav    happy   \n4  neutral_f1ba45ce  OAF_back_neutral.wav  neutral   \n5       ps_c81bdc6b       OAF_back_ps.wav       ps   \n6      sad_20b7e574      OAF_back_sad.wav      sad   \n7    angry_bca25c6a     OAF_bar_angry.wav    angry   \n8  disgust_fec5fe49   OAF_bar_disgust.wav  disgust   \n9     fear_6a24a9f1      OAF_bar_fear.wav     fear   \n\n                              File Path  \n0    dataverse_files\\OAF_back_angry.wav  \n1  dataverse_files\\OAF_back_disgust.wav  \n2     dataverse_files\\OAF_back_fear.wav  \n3    dataverse_files\\OAF_back_happy.wav  \n4  dataverse_files\\OAF_back_neutral.wav  \n5       dataverse_files\\OAF_back_ps.wav  \n6      dataverse_files\\OAF_back_sad.wav  \n7     dataverse_files\\OAF_bar_angry.wav  \n8   dataverse_files\\OAF_bar_disgust.wav  \n9      dataverse_files\\OAF_bar_fear.wav  ",
      "text/html": "<div>\n<style scoped>\n    .dataframe tbody tr th:only-of-type {\n        vertical-align: middle;\n    }\n\n    .dataframe tbody tr th {\n        vertical-align: top;\n    }\n\n    .dataframe thead th {\n        text-align: right;\n    }\n</style>\n<table border=\"1\" class=\"dataframe\">\n  <thead>\n    <tr style=\"text-align: right;\">\n      <th></th>\n      <th>ID</th>\n      <th>File Name</th>\n      <th>Emotion</th>\n      <th>File Path</th>\n    </tr>\n  </thead>\n  <tbody>\n    <tr>\n      <th>0</th>\n      <td>angry_43e3bc38</td>\n      <td>OAF_back_angry.wav</td>\n      <td>angry</td>\n      <td>dataverse_files\\OAF_back_angry.wav</td>\n    </tr>\n    <tr>\n      <th>1</th>\n      <td>disgust_6e0c7f59</td>\n      <td>OAF_back_disgust.wav</td>\n      <td>disgust</td>\n      <td>dataverse_files\\OAF_back_disgust.wav</td>\n    </tr>\n    <tr>\n      <th>2</th>\n      <td>fear_cee1f9df</td>\n      <td>OAF_back_fear.wav</td>\n      <td>fear</td>\n      <td>dataverse_files\\OAF_back_fear.wav</td>\n    </tr>\n    <tr>\n      <th>3</th>\n      <td>happy_21b40151</td>\n      <td>OAF_back_happy.wav</td>\n      <td>happy</td>\n      <td>dataverse_files\\OAF_back_happy.wav</td>\n    </tr>\n    <tr>\n      <th>4</th>\n      <td>neutral_f1ba45ce</td>\n      <td>OAF_back_neutral.wav</td>\n      <td>neutral</td>\n      <td>dataverse_files\\OAF_back_neutral.wav</td>\n    </tr>\n    <tr>\n      <th>5</th>\n      <td>ps_c81bdc6b</td>\n      <td>OAF_back_ps.wav</td>\n      <td>ps</td>\n      <td>dataverse_files\\OAF_back_ps.wav</td>\n    </tr>\n    <tr>\n      <th>6</th>\n      <td>sad_20b7e574</td>\n      <td>OAF_back_sad.wav</td>\n      <td>sad</td>\n      <td>dataverse_files\\OAF_back_sad.wav</td>\n    </tr>\n    <tr>\n      <th>7</th>\n      <td>angry_bca25c6a</td>\n      <td>OAF_bar_angry.wav</td>\n      <td>angry</td>\n      <td>dataverse_files\\OAF_bar_angry.wav</td>\n    </tr>\n    <tr>\n      <th>8</th>\n      <td>disgust_fec5fe49</td>\n      <td>OAF_bar_disgust.wav</td>\n      <td>disgust</td>\n      <td>dataverse_files\\OAF_bar_disgust.wav</td>\n    </tr>\n    <tr>\n      <th>9</th>\n      <td>fear_6a24a9f1</td>\n      <td>OAF_bar_fear.wav</td>\n      <td>fear</td>\n      <td>dataverse_files\\OAF_bar_fear.wav</td>\n    </tr>\n  </tbody>\n</table>\n</div>"
     },
     "execution_count": 2,
     "metadata": {},
     "output_type": "execute_result"
    }
   ],
   "source": [
    "# Extracting emotions and placing it in its column\n",
    "\n",
    "def extract_emotion(file_name):\n",
    "    parts = file_name.split('_')\n",
    "    emotion = parts[-1].split('.')[0]\n",
    "    return emotion\n",
    "\n",
    "def create_emotional_dataframe(folder_path):\n",
    "    data = []\n",
    "    for file_name in os.listdir(folder_path):\n",
    "        emotion = extract_emotion(file_name)\n",
    "        unique_id = f\"{emotion}_{str(uuid.uuid4())[:8]}\"\n",
    "        file_path = os.path.join(folder_path, file_name)\n",
    "        data.append({'ID': unique_id, 'File Name': file_name, 'Emotion': emotion, 'File Path': file_path})\n",
    "        \n",
    "    return pd.DataFrame(data)\n",
    "\n",
    "folder_path_wav = r'dataverse_files'\n",
    "\n",
    "emotion_df_wav = create_emotional_dataframe(folder_path_wav)\n",
    "\n",
    "# Display the DataFrame\n",
    "emotion_df_wav.head(10)"
   ],
   "metadata": {
    "collapsed": false,
    "ExecuteTime": {
     "end_time": "2024-02-05T09:02:05.463525300Z",
     "start_time": "2024-02-05T09:02:05.387527800Z"
    }
   },
   "id": "3fbda5f5b5b24a57",
   "execution_count": 2
  }
 ],
 "metadata": {
  "kernelspec": {
   "display_name": "Python 3",
   "language": "python",
   "name": "python3"
  },
  "language_info": {
   "codemirror_mode": {
    "name": "ipython",
    "version": 2
   },
   "file_extension": ".py",
   "mimetype": "text/x-python",
   "name": "python",
   "nbconvert_exporter": "python",
   "pygments_lexer": "ipython2",
   "version": "2.7.6"
  }
 },
 "nbformat": 4,
 "nbformat_minor": 5
}
